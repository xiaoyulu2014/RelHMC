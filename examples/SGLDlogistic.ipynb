{
 "cells": [
  {
   "cell_type": "code",
   "execution_count": 1,
   "metadata": {
    "collapsed": false
   },
   "outputs": [
    {
     "name": "stderr",
     "output_type": "stream",
     "text": [
      "WARNING: unknown Clang commit c4d18994, metadata may be ahead of package cache\n",
      "INFO: Cloning cache of RDatasets from git://github.com/johnmyleswhite/RDatasets.jl.git\n",
      "INFO: Installing RDatasets v0.1.2\n",
      "INFO: Package database updated\n"
     ]
    }
   ],
   "source": [
    "Pkg.add(\"RDatasets\")"
   ]
  },
  {
   "cell_type": "code",
   "execution_count": 7,
   "metadata": {
    "collapsed": false
   },
   "outputs": [
    {
     "data": {
      "text/plain": [
       "53x6 Array{Float64,2}:\n",
       " 1.0  0.0  1.0  1.0  1.0  1.0\n",
       " 1.0  0.0  1.0  1.0  1.0  1.0\n",
       " 1.0  0.0  1.0  1.0  1.0  1.0\n",
       " 1.0  0.0  1.0  1.0  1.0  1.0\n",
       " 1.0  0.0  1.0  1.0  1.0  1.0\n",
       " 1.0  0.0  1.0  1.0  1.0  1.0\n",
       " 1.0  0.0  0.0  0.0  0.0  1.0\n",
       " 1.0  0.0  0.0  0.0  0.0  1.0\n",
       " 1.0  0.0  0.0  0.0  0.0  1.0\n",
       " 1.0  0.0  0.0  0.0  0.0  1.0\n",
       " 1.0  0.0  0.0  0.0  0.0  1.0\n",
       " 1.0  0.0  0.0  0.0  0.0  1.0\n",
       " 1.0  1.0  1.0  1.0  0.0  0.0\n",
       " ⋮                        ⋮  \n",
       " 1.0  0.0  0.0  1.0  0.0  0.0\n",
       " 1.0  1.0  1.0  1.0  1.0  1.0\n",
       " 1.0  1.0  1.0  0.0  1.0  1.0\n",
       " 1.0  1.0  0.0  1.0  1.0  1.0\n",
       " 1.0  1.0  0.0  0.0  1.0  1.0\n",
       " 1.0  1.0  0.0  1.0  0.0  0.0\n",
       " 1.0  0.0  1.0  1.0  1.0  0.0\n",
       " 1.0  0.0  1.0  1.0  0.0  0.0\n",
       " 1.0  0.0  1.0  0.0  1.0  0.0\n",
       " 1.0  0.0  0.0  1.0  0.0  1.0\n",
       " 1.0  0.0  0.0  0.0  1.0  1.0\n",
       " 1.0  0.0  0.0  0.0  1.0  0.0"
      ]
     },
     "execution_count": 7,
     "metadata": {},
     "output_type": "execute_result"
    }
   ],
   "source": [
    "using RDatasets\n",
    "using StatsBase: logistic\n",
    "data_set = \"nodal\"\n",
    "nodal = dataset(\"boot\", \"nodal\")\n",
    "y = 2 * convert(Array{Float64},nodal[:R]) - 1\n",
    "# X includes an intercept term\n",
    "X = array(nodal[[:M, :Aged, :Stage, :Grade, :Xray, :Acid]])\n",
    "X = convert(Array{Float64, 2}, X)"
   ]
  },
  {
   "cell_type": "code",
   "execution_count": 3,
   "metadata": {
    "collapsed": false
   },
   "outputs": [
    {
     "data": {
      "text/plain": [
       "53-element Array{Float64,1}:\n",
       "  1.0\n",
       "  1.0\n",
       "  1.0\n",
       "  1.0\n",
       "  1.0\n",
       " -1.0\n",
       "  1.0\n",
       " -1.0\n",
       " -1.0\n",
       " -1.0\n",
       " -1.0\n",
       " -1.0\n",
       " -1.0\n",
       "  ⋮  \n",
       " -1.0\n",
       "  1.0\n",
       "  1.0\n",
       "  1.0\n",
       "  1.0\n",
       " -1.0\n",
       "  1.0\n",
       " -1.0\n",
       "  1.0\n",
       "  1.0\n",
       " -1.0\n",
       " -1.0"
      ]
     },
     "execution_count": 3,
     "metadata": {},
     "output_type": "execute_result"
    }
   ],
   "source": [
    "y"
   ]
  },
  {
   "cell_type": "code",
   "execution_count": 6,
   "metadata": {
    "collapsed": false
   },
   "outputs": [
    {
     "data": {
      "text/plain": [
       "30-element Array{Int64,1}:\n",
       "  10\n",
       "  30\n",
       "  50\n",
       "  70\n",
       "  90\n",
       " 110\n",
       " 130\n",
       " 150\n",
       " 170\n",
       " 190\n",
       " 210\n",
       " 230\n",
       " 250\n",
       "   ⋮\n",
       " 370\n",
       " 390\n",
       " 420\n",
       " 460\n",
       " 500\n",
       " 540\n",
       " 580\n",
       " 650\n",
       " 730\n",
       " 810\n",
       " 890\n",
       " 970"
      ]
     },
     "execution_count": 6,
     "metadata": {},
     "output_type": "execute_result"
    }
   ],
   "source": [
    "n=1000\n",
    "vcat(10:20:min(400,n), 420:40:min(600,n), 650:80:min(1000,n))\n"
   ]
  },
  {
   "cell_type": "code",
   "execution_count": 13,
   "metadata": {
    "collapsed": false
   },
   "outputs": [
    {
     "data": {
      "text/plain": [
       "6x53 Array{Float64,2}:\n",
       " 1.0  1.0  1.0  1.0  1.0  1.0  1.0  1.0  …  1.0  1.0  1.0  1.0  1.0  1.0  1.0\n",
       " 0.0  0.0  0.0  0.0  0.0  0.0  0.0  0.0     1.0  0.0  0.0  0.0  0.0  0.0  0.0\n",
       " 1.0  1.0  1.0  1.0  1.0  1.0  0.0  0.0     0.0  1.0  1.0  1.0  0.0  0.0  0.0\n",
       " 1.0  1.0  1.0  1.0  1.0  1.0  0.0  0.0     1.0  1.0  1.0  0.0  1.0  0.0  0.0\n",
       " 1.0  1.0  1.0  1.0  1.0  1.0  0.0  0.0     0.0  1.0  0.0  1.0  0.0  1.0  1.0\n",
       " 1.0  1.0  1.0  1.0  1.0  1.0  1.0  1.0  …  0.0  0.0  0.0  0.0  1.0  1.0  0.0"
      ]
     },
     "execution_count": 13,
     "metadata": {},
     "output_type": "execute_result"
    }
   ],
   "source": [
    "using Distributions\n",
    "srand(123)\n",
    "function logit(z)\n",
    "    1.0./(1.0.+exp(-z))\n",
    "end\n",
    "\n",
    "function fun(x::Array{Float64})\n",
    "  x[1]^2\n",
    "end\n",
    "d=6;\n",
    "C = eye(d);\n",
    "Cinv = inv(C)\n",
    "beta = reshape(rand(MvNormal(zeros(d),C)),(d,1))\n",
    "x=X\n",
    "# x= [randn(nobs,d-1) ones(nobs,1)]\n",
    "# y=(rand(nobs).<reshape(logit(x *beta),nobs))*2-1;\n",
    "xtp=x'"
   ]
  },
  {
   "cell_type": "code",
   "execution_count": 16,
   "metadata": {
    "collapsed": false
   },
   "outputs": [
    {
     "data": {
      "text/plain": [
       "sgldstep (generic function with 1 method)"
      ]
     },
     "execution_count": 16,
     "metadata": {},
     "output_type": "execute_result"
    }
   ],
   "source": [
    "function logit(z::Float64)\n",
    "    1.0./(1.0.+exp(-z))\n",
    "end\n",
    "log_logit(z::Float64)= -log(1.0 .+ exp(-z))\n",
    "grad_log_logit(z::Float64)=1.0-logit(z)\n",
    "\n",
    "function log_posterior(beta_vec)\n",
    "    log_prior = -0.5 * (beta_vec'*Cinv*beta_vec)[1]\n",
    "    log_likelihood = sum([log_logit(z) for z in (reshape(x* beta_vec,nobs).*y)])\n",
    "    return log_prior+log_likelihood\n",
    "end\n",
    "\n",
    "function gradmlogdensity(beta_vec::Array{Float64,2})\n",
    "    grad=zeros(beta_vec)\n",
    "    gradmloglike=zeros(beta_vec)\n",
    "\n",
    "    grad+= Cinv * beta_vec;\n",
    "    for i=1:nobs\n",
    "        gradmloglike-=grad_log_logit(y[i]*(x[i,:]*beta_vec)[1])*y[i]*xtp[:,i];\n",
    "    end\n",
    "    return grad+gradmloglike;\n",
    "end\n",
    "function ddlogit(x::Float64)\n",
    "    return exp(-x)/(1+exp(-x))^2\n",
    "end\n",
    "\n",
    "function hessmlogdensity(beta_vec::Array{Float64,2} )\n",
    "    hess=zeros(d,d)\n",
    "    hess+=Cinv;\n",
    "    for i=1:nobs\n",
    "        hess+=ddlogit(y[i]*(x[i,:]*beta_vec)[1])*y[i]^2*xtp[:,i]*x[i,:];\n",
    "    end\n",
    "    return hess;\n",
    "end\n",
    "function grad_log_posterior_sub(current_beta,chosen_indices)\n",
    "    subobs= length(chosen_indices)\n",
    "    log_prior_gradient= -Cinv* current_beta\n",
    "    #gradient of likelihood = y*grad_log_logit(y*beta*x)*x\n",
    "    #first step: compute y*grad_log_logit(y*beta*x)\n",
    "    weights = y[chosen_indices].*map(grad_log_logit,(x[chosen_indices,:] * current_beta )[:].*y[chosen_indices])\n",
    "    #second ztep: compute y*grad_log_logit(y*beta*x)*x\n",
    "\n",
    "    return log_prior_gradient+(1.0*nobs)/subobs*(reshape(weights,1,subobs)* x[chosen_indices,:])'\n",
    "\n",
    "end\n",
    "function grad_log_posterior_sub_new(current_beta,chosen_indices)\n",
    "    subobs= length(chosen_indices)\n",
    "    log_prior_gradient= -Cinv* current_beta\n",
    "    #gradient of likelihood = y*grad_log_logit(y*beta*x)*x\n",
    "    #first step: compute y*grad_log_logit(y*beta*x)\n",
    "    weights = y[chosen_indices].*map(grad_log_logit,( current_beta' *xtp[:,chosen_indices] )[:].*y[chosen_indices])\n",
    "    #second ztep: compute y*grad_log_logit(y*beta*x)*x\n",
    "\n",
    "    return log_prior_gradient+(1.0*nobs)/subobs*(reshape(weights,1,subobs)* x[chosen_indices,:])'\n",
    "\n",
    "end\n",
    "## S operator\n",
    "function sgldstep(x,h,xi,cindex)\n",
    "    x+h*grad_log_posterior_sub(x,cindex)+sqrt(2*h)*xi\n",
    "end    \n",
    "#     betamap=zeros(beta);\n",
    "\n",
    "# step=hessmlogdensity(betamap)\\gradmlogdensity(betamap)\n",
    "# betamap=betamap-step;\n",
    "# while norm(step)>1.0e-12\n",
    "#     step=hessmlogdensity(betamap)\\gradmlogdensity(betamap)\n",
    "#     betamap=betamap-step;\n",
    "#     println(norm(step))\n",
    "#     println(betamap');\n",
    "# end\n",
    "# betamapv=vec(betamap)\n",
    "#     #################### SGLD stuff \n",
    "# method can be one of :union :strat or :ind\n",
    "# subset size 1-\n",
    "# cost is \n"
   ]
  },
  {
   "cell_type": "code",
   "execution_count": 25,
   "metadata": {
    "collapsed": false
   },
   "outputs": [],
   "source": [
    "m=1000\n",
    "xs=zeros(d,m)\n",
    "nobs=53\n",
    "h0=0.04\n",
    "subobs=20\n",
    "for i=2:m\n",
    "    \n",
    "    cindF1=rand(1:nobs,subobs)\n",
    "\n",
    "    xi1=randn(size(beta))\n",
    "    xs[:,i]=sgldstep(xs[:,i-1],h0,xi1,cindF1)\n",
    "end"
   ]
  },
  {
   "cell_type": "code",
   "execution_count": 26,
   "metadata": {
    "collapsed": false
   },
   "outputs": [
    {
     "data": {
      "text/plain": [
       "6x1000 Array{Float64,2}:\n",
       " 0.0  -0.213414   -0.0224805  -0.053679  …  -1.99886   -1.66927   -1.86464 \n",
       " 0.0  -0.567259   -0.407825   -0.728595     -0.959924  -0.340601  -0.462259\n",
       " 0.0   0.26141     0.947841    1.28345       1.17146    1.70312    1.78824 \n",
       " 0.0  -0.277121   -0.0567035   0.119224     -0.538465  -0.552004  -0.752566\n",
       " 0.0   0.509268    0.527113    0.238367      2.68095    2.70335    2.73503 \n",
       " 0.0  -0.0496297   0.604678    0.384957  …   0.226072   0.119866   0.590615"
      ]
     },
     "execution_count": 26,
     "metadata": {},
     "output_type": "execute_result"
    }
   ],
   "source": [
    "xs"
   ]
  },
  {
   "cell_type": "code",
   "execution_count": null,
   "metadata": {
    "collapsed": true
   },
   "outputs": [],
   "source": []
  }
 ],
 "metadata": {
  "kernelspec": {
   "display_name": "Julia 0.4.2",
   "language": "julia",
   "name": "julia-0.4"
  },
  "language_info": {
   "file_extension": ".jl",
   "mimetype": "application/julia",
   "name": "julia",
   "version": "0.4.2"
  }
 },
 "nbformat": 4,
 "nbformat_minor": 0
}
