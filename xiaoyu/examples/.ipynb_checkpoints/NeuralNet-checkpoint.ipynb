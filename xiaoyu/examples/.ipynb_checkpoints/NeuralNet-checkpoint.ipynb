{
 "cells": [
  {
   "cell_type": "code",
   "execution_count": 4,
   "metadata": {
    "collapsed": false
   },
   "outputs": [
    {
     "data": {
      "text/plain": [
       "6-element Array{Union(ASCIIString,UTF8String),1}:\n",
       " \"/usr/local/share/julia/site/v0.3\"\n",
       " \"/usr/share/julia/site/v0.3\"      \n",
       " \"../xiaoyu/src\"                   \n",
       " \"../xiaoyu/models/\"               \n",
       " \"../src\"                          \n",
       " \"../models/\"                      "
      ]
     },
     "execution_count": 4,
     "metadata": {},
     "output_type": "execute_result"
    }
   ],
   "source": [
    "push!(LOAD_PATH,\"../src\")\n",
    "push!(LOAD_PATH,\"../models/\")"
   ]
  },
  {
   "cell_type": "code",
   "execution_count": null,
   "metadata": {
    "collapsed": false
   },
   "outputs": [],
   "source": [
    "using SGMCMC\n",
    "using DataModel\n",
    "Pkg.add(\"Mocha\")\n",
    "Pkg.add(\"MochaDataModel\")\n",
    "Pkg.add(\"MochaWrapper2\")\n",
    "using Mocha\n",
    "using MochaDataModel\n",
    "using MochaWrapper2\n",
    "using Gadfly\n",
    "using JLD\n",
    "using HDF5"
   ]
  },
  {
   "cell_type": "code",
   "execution_count": 8,
   "metadata": {
    "collapsed": false
   },
   "outputs": [
    {
     "data": {
      "text/plain": [
       "\"/data/greypartridge/oxwasp/oxwasp14/hasencle/data\""
      ]
     },
     "execution_count": 8,
     "metadata": {},
     "output_type": "execute_result"
    }
   ],
   "source": [
    "data_path = \"/data/greypartridge/oxwasp/oxwasp14/xlu/MNIST\"\n",
    "#=trainFile = h5open( \"$(data_path)mnist_train.hdf5\", \"r\" )\n",
    "testFile  = h5open( \"$(data_path)mnist_test.hdf5\", \"r\" )\n",
    "images    = convert(Array{Float64,4},trainFile[\"data\"][:,:,:,:])\n",
    "dlabel    = convert(Array{Float64,2},trainFile[\"label\"][:,:])\n",
    "timages   = convert(Array{Float64,4},testFile[\"data\"][:,:,:,:])\n",
    "tdlabel   = convert(Array{Float64,2},testFile[\"label\"][:,:])=#"
   ]
  },
  {
   "cell_type": "code",
   "execution_count": 9,
   "metadata": {
    "collapsed": false
   },
   "outputs": [
    {
     "name": "stderr",
     "output_type": "stream",
     "text": [
      "HDF5-DIAG: Error detected in HDF5 (1.8.14) thread 0:\n",
      "  #000: ../../src/H5F.c line 439 in H5Fis_hdf5(): unable open file\n",
      "    major: File accessibilty\n",
      "    minor: Not an HDF5 file\n",
      "  #001: ../../src/H5Fint.c line 554 in H5F_is_hdf5(): unable to open file\n",
      "    major: Low-level I/O\n",
      "    minor: Unable to initialize object\n",
      "  #002: ../../src/H5FD.c line 992 in H5FD_open(): open failed\n",
      "    major: Virtual File Layer\n",
      "    minor: Unable to initialize object\n",
      "  #003: ../../src/H5FDsec2.c line 343 in H5FD_sec2_open(): unable to open file: name = '/data/greypartridge/oxwasp/oxwasp14/hasencle/datamnist_test.hdf5', errno = 2, error message = 'No such file or directory', flags = 0, o_flags = 0\n",
      "    major: File accessibilty\n",
      "    minor: Unable to open file\n"
     ]
    },
    {
     "ename": "LoadError",
     "evalue": "Cannot access file /data/greypartridge/oxwasp/oxwasp14/hasencle/datamnist_test.hdf5\nwhile loading In[9], in expression starting on line 1",
     "output_type": "error",
     "traceback": [
      "Cannot access file /data/greypartridge/oxwasp/oxwasp14/hasencle/datamnist_test.hdf5\nwhile loading In[9], in expression starting on line 1",
      "",
      " in h5f_is_hdf5 at /homes/xlu/.julia/v0.3/HDF5/src/plain.jl:2079",
      " in h5open at /homes/xlu/.julia/v0.3/HDF5/src/plain.jl:547",
      " in h5open at /homes/xlu/.julia/v0.3/HDF5/src/plain.jl:557"
     ]
    }
   ],
   "source": [
    "testFile  = h5open( \"$(data_path)mnist_test.hdf5\", \"r\" )\n"
   ]
  },
  {
   "cell_type": "code",
   "execution_count": 4,
   "metadata": {
    "collapsed": false
   },
   "outputs": [
    {
     "data": {
      "text/plain": [
       "((anonymous function),\"dense_100\")"
      ]
     },
     "execution_count": 4,
     "metadata": {},
     "output_type": "execute_result"
    }
   ],
   "source": [
    "backend = initMochaBackend(false)\n",
    "include(\"../models/MochaModelFactories/models.jl\")\n",
    "model,name = make_dense_nn([100],10)"
   ]
  },
  {
   "cell_type": "code",
   "execution_count": 5,
   "metadata": {
    "collapsed": false
   },
   "outputs": [
    {
     "name": "stdout",
     "output_type": "stream",
     "text": [
      "07-Apr 17:29:28:INFO:root:Constructing net MochaSGMCMCNet on Mocha.CPUBackend...\n",
      "07-Apr 17:29:28:INFO:root:Topological sorting 4 layers...\n",
      "07-Apr 17:29:28:INFO:root:Setup layers...\n",
      "07-Apr 17:29:29:INFO:root:Network constructed!\n",
      "07-Apr 17:29:29:DEBUG:root:Init network MochaSGMCMCNet\n",
      "07-Apr 17:29:29:DEBUG:root:Init parameter weight for layer ip1\n",
      "07-Apr 17:29:29:DEBUG:root:Init parameter bias for layer ip1\n",
      "07-Apr 17:29:29:DEBUG:root:Init parameter weight for layer ip2\n",
      "07-Apr 17:29:29:DEBUG:root:Init parameter bias for layer ip2\n",
      "07-Apr 17:29:29:INFO:root:Constructing net MochaSGMCMCNet on Mocha.CPUBackend...\n",
      "07-Apr 17:29:29:INFO:root:Topological sorting 5 layers...\n",
      "07-Apr 17:29:29:INFO:root:Setup layers...\n",
      "07-Apr 17:29:29:DEBUG:root:InnerProductLayer(ip1): sharing weights and bias\n",
      "07-Apr 17:29:29:DEBUG:root:InnerProductLayer(ip2): sharing weights and bias\n",
      "07-Apr 17:29:29:INFO:root:Network constructed!\n",
      "07-Apr 17:29:29:DEBUG:root:Init network MochaSGMCMCNet\n",
      "07-Apr 17:29:29:INFO:root:Constructing net MochaSGMCMCNet on Mocha.CPUBackend...\n",
      "07-Apr 17:29:29:INFO:root:Topological sorting 5 layers...\n",
      "07-Apr 17:29:29:INFO:root:Setup layers...\n",
      "07-Apr 17:29:29:DEBUG:root:InnerProductLayer(ip1): sharing weights and bias\n",
      "07-Apr 17:29:29:DEBUG:root:InnerProductLayer(ip2): sharing weights and bias\n",
      "07-Apr 17:29:29:INFO:root:Network constructed!\n",
      "07-Apr 17:29:29:DEBUG:root:Init network MochaSGMCMCNet\n"
     ]
    },
    {
     "data": {
      "text/plain": [
       "MochaSGMCMCDataModel(60000.0,100)"
      ]
     },
     "execution_count": 5,
     "metadata": {},
     "output_type": "execute_result"
    }
   ],
   "source": [
    "dm = MochaSGMCMCDataModel(images,dlabel,model,backend)\n",
    "dmtest = MochaSGMCMCDataModel(timages,tdlabel,model,backend,do_accuracy=true)# for test set accuracy\n",
    "dmtraintest = MochaSGMCMCDataModel(images,dlabel,model,backend,do_accuracy=true)# for training set accuracy"
   ]
  },
  {
   "cell_type": "code",
   "execution_count": 6,
   "metadata": {
    "collapsed": false
   },
   "outputs": [
    {
     "data": {
      "text/plain": [
       "79510"
      ]
     },
     "execution_count": 6,
     "metadata": {},
     "output_type": "execute_result"
    }
   ],
   "source": [
    "MochaDataModel.fetchnparams(dm)"
   ]
  },
  {
   "cell_type": "code",
   "execution_count": 7,
   "metadata": {
    "collapsed": false
   },
   "outputs": [
    {
     "data": {
      "text/plain": [
       "79510-element Array{Float64,1}:\n",
       "  0.0215414 \n",
       " -0.0207334 \n",
       " -0.0174307 \n",
       "  0.0178345 \n",
       " -0.0528356 \n",
       " -0.00680019\n",
       "  0.0190744 \n",
       " -0.0528954 \n",
       "  0.0406844 \n",
       "  0.0166141 \n",
       " -0.0244828 \n",
       "  0.0475443 \n",
       "  0.0563915 \n",
       "  ⋮         \n",
       "  0.0880164 \n",
       "  0.120896  \n",
       "  0.0       \n",
       "  0.0       \n",
       "  0.0       \n",
       "  0.0       \n",
       "  0.0       \n",
       "  0.0       \n",
       "  0.0       \n",
       "  0.0       \n",
       "  0.0       \n",
       "  0.0       "
      ]
     },
     "execution_count": 7,
     "metadata": {},
     "output_type": "execute_result"
    }
   ],
   "source": [
    "x = MochaDataModel.fetchparams(dm)\n",
    "y = deepcopy(x)"
   ]
  },
  {
   "cell_type": "code",
   "execution_count": null,
   "metadata": {
    "collapsed": false
   },
   "outputs": [],
   "source": [
    "ssgrhmc = SGNHTRelHMCState(x,stepsize=1e-2,c=[1.],mass=[1e-5]);"
   ]
  },
  {
   "cell_type": "code",
   "execution_count": 8,
   "metadata": {
    "collapsed": false
   },
   "outputs": [
    {
     "data": {
      "text/plain": [
       "run (generic function with 1 method)"
      ]
     },
     "execution_count": 8,
     "metadata": {},
     "output_type": "execute_result"
    }
   ],
   "source": [
    "function run(s::SamplerState,dm::AbstractDataModel;num_iterations=201)\n",
    "    grad = getgrad(dm)\n",
    "    llik = getllik(dm)\n",
    "\n",
    "    for i = 1:num_iterations\n",
    "\n",
    "        sample!(s,llik,grad)\n",
    "\n",
    "        if rem(i,100) == 1\n",
    "            @show MochaDataModel.evaluate(dmtraintest,s.x)\n",
    "            @show MochaDataModel.evaluate(dmtest,s.x)\n",
    "        end\n",
    "    end\n",
    "end"
   ]
  },
  {
   "cell_type": "code",
   "execution_count": null,
   "metadata": {
    "collapsed": false
   },
   "outputs": [],
   "source": [
    "run(ssgrhmc,dm);"
   ]
  },
  {
   "cell_type": "code",
   "execution_count": null,
   "metadata": {
    "collapsed": true
   },
   "outputs": [],
   "source": [
    "x=deepcopy(y)\n",
    "ssgrhmc = SGNHTRelHMCState(x,stepsize=1e-3,c=[1.],mass=[1]);"
   ]
  },
  {
   "cell_type": "code",
   "execution_count": null,
   "metadata": {
    "collapsed": false
   },
   "outputs": [],
   "source": [
    "run(ssgrhmc,dm)"
   ]
  },
  {
   "cell_type": "code",
   "execution_count": 9,
   "metadata": {
    "collapsed": false
   },
   "outputs": [
    {
     "name": "stdout",
     "output_type": "stream",
     "text": [
      "(m,c,stepsize) = (1.0,1.0,0.001)\n",
      "MochaDataModel.evaluate(dmtraintest,s.x) = Dict(:accuracy=>0.08955000000000003,:loglikelihood=>-139689.19363312834)\n",
      "MochaDataModel.evaluate(dmtest,s.x) = Dict(:accuracy=>0.09170000000000002,:loglikelihood=>-23224.43219698924)\n",
      "MochaDataModel.evaluate(dmtraintest,s.x) = Dict(:accuracy=>0.09158333333333334,:loglikelihood=>-139637.7094680599)\n",
      "MochaDataModel.evaluate(dmtest,s.x) = Dict(:accuracy=>0.0928,:loglikelihood=>-23212.80258705011)\n",
      "MochaDataModel.evaluate(dmtraintest,s.x) = Dict(:accuracy=>0.09329999999999997,:loglikelihood=>-139655.90390471806)\n",
      "MochaDataModel.evaluate(dmtest,s.x) = Dict(:accuracy=>0.09789999999999999,:loglikelihood=>-23212.647870958655)\n",
      "(m,c,stepsize) = (1.0,1.0,0.01)\n",
      "MochaDataModel.evaluate(dmtraintest,s.x) = Dict(:accuracy=>0.0889499999999999,:loglikelihood=>-139711.0968037353)\n",
      "MochaDataModel.evaluate(dmtest,s.x) = Dict(:accuracy=>0.0909,:loglikelihood=>-23228.768232082566)\n",
      "MochaDataModel.evaluate(dmtraintest,s.x) = Dict(:accuracy=>0.08443333333333328,:loglikelihood=>-141761.90685648716)\n",
      "MochaDataModel.evaluate(dmtest,s.x) = Dict(:accuracy=>0.0887,:loglikelihood=>-23588.659295624926)\n",
      "MochaDataModel.evaluate(dmtraintest,s.x) = Dict(:accuracy=>0.09916666666666667,:loglikelihood=>-142475.04579617365)\n",
      "MochaDataModel.evaluate(dmtest,s.x) = Dict(:accuracy=>0.1046,:loglikelihood=>-23637.832661214517)\n",
      "(m,c,stepsize) = (1.0,1.0,0.1)\n",
      "MochaDataModel.evaluate(dmtraintest,s.x) = Dict(:accuracy=>0.09623333333333337,:loglikelihood=>-139443.2781518515)\n",
      "MochaDataModel.evaluate(dmtest,s.x) = Dict(:accuracy=>0.09570000000000001,:loglikelihood=>-23183.07356742199)\n",
      "MochaDataModel.evaluate(dmtraintest,s.x) = Dict(:accuracy=>0.22596666666666668,:loglikelihood=>-246532.25431009647)\n",
      "MochaDataModel.evaluate(dmtest,s.x) = Dict(:accuracy=>0.22479999999999994,:loglikelihood=>-41516.76893684392)\n",
      "MochaDataModel.evaluate(dmtraintest,s.x) = Dict(:accuracy=>0.49288333333333334,:loglikelihood=>-372854.3313784252)\n",
      "MochaDataModel.evaluate(dmtest,s.x) = Dict(:accuracy=>0.4935,:loglikelihood=>-61496.73858321193)\n",
      "(m,c,stepsize) = (1.0,1.0,1.0)\n",
      "MochaDataModel.evaluate(dmtraintest,s.x) = Dict(:accuracy=>0.12226666666666666,:loglikelihood=>-138496.99450980517)\n",
      "MochaDataModel.evaluate(dmtest,s.x) = Dict(:accuracy=>0.1236,:loglikelihood=>-23056.14486870183)\n",
      "MochaDataModel.evaluate(dmtraintest,s.x) = Dict(:accuracy=>0.7813000000000002,:loglikelihood=>-540821.6038306063)\n",
      "MochaDataModel.evaluate(dmtest,s.x) = Dict(:accuracy=>0.7886999999999998,:loglikelihood=>-86680.14502841426)\n",
      "MochaDataModel.evaluate(dmtraintest,s.x) = Dict(:accuracy=>0.814916666666667,:loglikelihood=>-487005.61805685336)\n",
      "MochaDataModel.evaluate(dmtest,s.x) = Dict(:accuracy=>0.8212999999999998,:loglikelihood=>-77913.69917717949)\n",
      "(m,c,stepsize) = (1.0,0.1,0.001)\n",
      "MochaDataModel.evaluate(dmtraintest,s.x) = Dict(:accuracy=>0.0896,:loglikelihood=>-139688.63137100072)\n",
      "MochaDataModel.evaluate(dmtest,s.x) = Dict(:accuracy=>0.09179999999999999,:loglikelihood=>-23224.372638453657)\n",
      "MochaDataModel.evaluate(dmtraintest,s.x) = Dict(:accuracy=>0.08966666666666667,:loglikelihood=>-139676.84900653263)\n",
      "MochaDataModel.evaluate(dmtest,s.x) = Dict(:accuracy=>0.09250000000000001,:loglikelihood=>-23222.66260995712)\n",
      "MochaDataModel.evaluate(dmtraintest,s.x) = Dict(:accuracy=>0.09033333333333333,:loglikelihood=>-139663.9597143017)\n",
      "MochaDataModel.evaluate(dmtest,s.x) = Dict(:accuracy=>0.0933,:loglikelihood=>-23220.751049326012)\n",
      "(m,c,stepsize) = (1.0,0.1,0.01)\n",
      "MochaDataModel.evaluate(dmtraintest,s.x) = Dict(:accuracy=>0.08961666666666668,:loglikelihood=>-139689.24740787718)\n",
      "MochaDataModel.evaluate(dmtest,s.x) = Dict(:accuracy=>0.0918,:loglikelihood=>-23224.491792167846)\n",
      "MochaDataModel.evaluate(dmtraintest,s.x) = Dict(:accuracy=>0.08764999999999998,:loglikelihood=>-139697.52781406054)\n",
      "MochaDataModel.evaluate(dmtest,s.x) = Dict(:accuracy=>0.08920000000000003,:loglikelihood=>-23228.622896763503)\n",
      "MochaDataModel.evaluate(dmtraintest,s.x) = Dict(:accuracy=>0.08600000000000002,:loglikelihood=>-139671.0372736577)\n",
      "MochaDataModel.evaluate(dmtest,s.x) = Dict(:accuracy=>0.09010000000000001,:loglikelihood=>-23227.37129463238)\n",
      "(m,c,stepsize) = (1.0,0.1,0.1)\n",
      "MochaDataModel.evaluate(dmtraintest,s.x) = Dict(:accuracy=>0.09008333333333335,:loglikelihood=>-139681.2016426057)\n",
      "MochaDataModel.evaluate(dmtest,s.x) = Dict(:accuracy=>0.09200000000000001,:loglikelihood=>-23223.09006648896)\n",
      "MochaDataModel.evaluate(dmtraintest,s.x) = Dict(:accuracy=>0.0986,:loglikelihood=>-138944.60377017103)\n",
      "MochaDataModel.evaluate(dmtest,s.x) = Dict(:accuracy=>0.1029,:loglikelihood=>-23113.66291033788)\n",
      "MochaDataModel.evaluate(dmtraintest,s.x) = Dict(:accuracy=>0.14438333333333334,:loglikelihood=>-135614.5517023434)\n",
      "MochaDataModel.evaluate(dmtest,s.x) = Dict(:accuracy=>0.1481,:loglikelihood=>-22537.413451281085)\n",
      "(m,c,stepsize) = (1.0,0.1,1.0)\n",
      "MochaDataModel.evaluate(dmtraintest,s.x) = Dict(:accuracy=>0.0869333333333333,:loglikelihood=>-139715.21898722264)\n",
      "MochaDataModel.evaluate(dmtest,s.x) = Dict(:accuracy=>0.08889999999999997,:loglikelihood=>-23224.441768062767)\n",
      "MochaDataModel.evaluate(dmtraintest,s.x) = Dict(:accuracy=>0.6007833333333329,:loglikelihood=>-106683.8132063992)\n",
      "MochaDataModel.evaluate(dmtest,s.x) = Dict(:accuracy=>0.6106000000000001,:loglikelihood=>-17127.756460527788)\n",
      "MochaDataModel.evaluate(dmtraintest,s.x) = Dict(:accuracy=>0.7031833333333334,:loglikelihood=>-204319.84018525446)\n",
      "MochaDataModel.evaluate(dmtest,s.x) = Dict(:accuracy=>0.7141999999999998,:loglikelihood=>-32304.960524123424)\n",
      "(m,c,stepsize) = (1.0,0.01,0.001)\n",
      "MochaDataModel.evaluate(dmtraintest,s.x) = Dict(:accuracy=>0.0895666666666667,:loglikelihood=>-139688.7297991012)\n",
      "MochaDataModel.evaluate(dmtest,s.x) = Dict(:accuracy=>0.0918,:loglikelihood=>-23224.3863093432)\n",
      "MochaDataModel.evaluate(dmtraintest,s.x) = Dict(:accuracy=>0.08950000000000007,:loglikelihood=>-139688.32442455462)\n",
      "MochaDataModel.evaluate(dmtest,s.x) = Dict(:accuracy=>0.09189999999999998,:loglikelihood=>-23224.290887190382)\n",
      "MochaDataModel.evaluate(dmtraintest,s.x) = Dict(:accuracy=>0.08941666666666666,:loglikelihood=>-139687.9199621299)\n",
      "MochaDataModel.evaluate(dmtest,s.x) = Dict(:accuracy=>0.0919,:loglikelihood=>-23224.19576632777)\n",
      "(m,c,stepsize) = (1.0,0.01,0.01)\n",
      "MochaDataModel.evaluate(dmtraintest,s.x) = Dict(:accuracy=>0.08958333333333333,:loglikelihood=>-139688.74932687142)\n",
      "MochaDataModel.evaluate(dmtest,s.x) = Dict(:accuracy=>0.0918,:loglikelihood=>-23224.393096120784)\n",
      "MochaDataModel.evaluate(dmtraintest,s.x) = Dict(:accuracy=>0.08974999999999991,:loglikelihood=>-139689.99352213583)\n",
      "MochaDataModel.evaluate(dmtest,s.x) = Dict(:accuracy=>0.09199999999999997,:loglikelihood=>-23224.896340487318)\n",
      "MochaDataModel.evaluate(dmtraintest,s.x) = Dict(:accuracy=>0.08994999999999993,:loglikelihood=>-139690.85061466545)\n",
      "MochaDataModel.evaluate(dmtest,s.x) = Dict(:accuracy=>0.0913,:loglikelihood=>-23225.29468656843)\n",
      "(m,c,stepsize) = (1.0,0.01,0.1)\n",
      "MochaDataModel.evaluate(dmtraintest,s.x) = Dict(:accuracy=>0.08955,:loglikelihood=>-139688.21319227733)\n",
      "MochaDataModel.evaluate(dmtest,s.x) = Dict(:accuracy=>0.09179999999999998,:loglikelihood=>-23224.287185220655)\n",
      "MochaDataModel.evaluate(dmtraintest,s.x) = Dict(:accuracy=>0.0896333333333333,:loglikelihood=>-139613.58470162266)\n",
      "MochaDataModel.evaluate(dmtest,s.x) = Dict(:accuracy=>0.0914,:loglikelihood=>-23211.852422964323)\n",
      "MochaDataModel.evaluate(dmtraintest,s.x) = Dict(:accuracy=>0.09089999999999993,:loglikelihood=>-139505.46047305845)\n",
      "MochaDataModel.evaluate(dmtest,s.x) = Dict(:accuracy=>0.09250000000000001,:loglikelihood=>-23195.417938136125)\n",
      "(m,c,stepsize) = (1.0,0.01,1.0)\n",
      "MochaDataModel.evaluate(dmtraintest,s.x) = Dict(:accuracy=>0.08938333333333333,:loglikelihood=>-139690.17438108532)\n",
      "MochaDataModel.evaluate(dmtest,s.x) = Dict(:accuracy=>0.09179999999999999,:loglikelihood=>-23224.106608814862)\n",
      "MochaDataModel.evaluate(dmtraintest,s.x) = Dict(:accuracy=>0.12640000000000015,:loglikelihood=>-136682.76542178474)\n",
      "MochaDataModel.evaluate(dmtest,s.x) = Dict(:accuracy=>0.1311999999999999,:loglikelihood=>-22697.190613960593)\n",
      "MochaDataModel.evaluate(dmtraintest,s.x) = Dict(:accuracy=>0.23289999999999997,:loglikelihood=>-127591.38913289798)\n",
      "MochaDataModel.evaluate(dmtest,s.x) = Dict(:accuracy=>0.239,:loglikelihood=>-21147.489134006184)\n",
      "(m,c,stepsize) = (0.001,1.0,0.001)\n",
      "MochaDataModel.evaluate(dmtraintest,s.x) = Dict(:accuracy=>0.08958333333333336,:loglikelihood=>-139685.74203414083)\n",
      "MochaDataModel.evaluate(dmtest,s.x) = Dict(:accuracy=>0.0918,:loglikelihood=>-23223.89509603585)\n",
      "MochaDataModel.evaluate(dmtraintest,s.x) = Dict(:accuracy=>0.09286666666666663,:loglikelihood=>-139420.59307457972)\n",
      "MochaDataModel.evaluate(dmtest,s.x) = Dict(:accuracy=>0.0937,:loglikelihood=>-23180.312106569356)\n",
      "MochaDataModel.evaluate(dmtraintest,s.x) = Dict(:accuracy=>0.09356666666666667,:loglikelihood=>-139245.9503818234)\n",
      "MochaDataModel.evaluate(dmtest,s.x) = Dict(:accuracy=>0.0981,:loglikelihood=>-23153.076818267196)\n",
      "(m,c,stepsize) = (0.001,1.0,0.01)\n",
      "MochaDataModel.evaluate(dmtraintest,s.x) = Dict(:accuracy=>0.08988333333333341,:loglikelihood=>-139653.34939548225)\n",
      "MochaDataModel.evaluate(dmtest,s.x) = Dict(:accuracy=>0.0922,:loglikelihood=>-23218.02392443624)\n",
      "MochaDataModel.evaluate(dmtraintest,s.x) = Dict(:accuracy=>0.1242500000000001,:loglikelihood=>-137717.4672183627)\n",
      "MochaDataModel.evaluate(dmtest,s.x) = Dict(:accuracy=>0.13200000000000003,:loglikelihood=>-22877.76818855148)\n",
      "MochaDataModel.evaluate(dmtraintest,s.x) = Dict(:accuracy=>0.17601666666666665,:loglikelihood=>-134827.50035719815)\n",
      "MochaDataModel.evaluate(dmtest,s.x) = Dict(:accuracy=>0.18219999999999995,:loglikelihood=>-22359.43531747418)\n",
      "(m,c,stepsize) = (0.001,1.0,0.1)\n",
      "MochaDataModel.evaluate(dmtraintest,s.x) = Dict(:accuracy=>0.09114999999999995,:loglikelihood=>-139673.3758960901)\n",
      "MochaDataModel.evaluate(dmtest,s.x) = Dict(:accuracy=>0.09219999999999999,:loglikelihood=>-23222.012693478202)\n",
      "MochaDataModel.evaluate(dmtraintest,s.x) = Dict(:accuracy=>0.18308333333333332,:loglikelihood=>-251484.91004003873)\n",
      "MochaDataModel.evaluate(dmtest,s.x) = Dict(:accuracy=>0.17950000000000005,:loglikelihood=>-42010.23351265582)\n",
      "MochaDataModel.evaluate(dmtraintest,s.x) = Dict(:accuracy=>0.4952666666666667,:loglikelihood=>-343879.3129102415)\n",
      "MochaDataModel.evaluate(dmtest,s.x) = Dict(:accuracy=>0.4974,:loglikelihood=>-56994.386270228475)\n",
      "(m,c,stepsize) = (0.001,1.0,1.0)\n",
      "MochaDataModel.evaluate(dmtraintest,s.x) = Dict(:accuracy=>0.09270000000000006,:loglikelihood=>-138498.02774204957)\n",
      "MochaDataModel.evaluate(dmtest,s.x) = Dict(:accuracy=>0.09419999999999998,:loglikelihood=>-23019.924223588918)\n",
      "MochaDataModel.evaluate(dmtraintest,s.x) = Dict(:accuracy=>0.7603333333333333,:loglikelihood=>-580546.1703372186)\n",
      "MochaDataModel.evaluate(dmtest,s.x) = Dict(:accuracy=>0.7743,:loglikelihood=>-91862.32303454998)\n",
      "MochaDataModel.evaluate(dmtraintest,s.x) = Dict(:accuracy=>0.8007000000000002,:loglikelihood=>-518750.92864246917)\n",
      "MochaDataModel.evaluate(dmtest,s.x) = Dict(:accuracy=>0.807,:loglikelihood=>-83142.01294298773)\n",
      "(m,c,stepsize) = (0.001,0.1,0.001)\n",
      "MochaDataModel.evaluate(dmtraintest,s.x) = Dict(:accuracy=>0.0895666666666667,:loglikelihood=>-139688.5131317558)\n",
      "MochaDataModel.evaluate(dmtest,s.x) = Dict(:accuracy=>0.0919,:loglikelihood=>-23224.352317574234)\n",
      "MochaDataModel.evaluate(dmtraintest,s.x) = Dict(:accuracy=>0.09001666666666666,:loglikelihood=>-139666.4730165912)\n",
      "MochaDataModel.evaluate(dmtest,s.x) = Dict(:accuracy=>0.0927,:loglikelihood=>-23220.920670619795)\n",
      "MochaDataModel.evaluate(dmtraintest,s.x) = Dict(:accuracy=>0.09080000000000009,:loglikelihood=>-139646.86219089056)\n",
      "MochaDataModel.evaluate(dmtest,s.x) = Dict(:accuracy=>0.09209999999999997,:loglikelihood=>-23217.951575607713)\n",
      "(m,c,stepsize) = (0.001,0.1,0.01)\n",
      "MochaDataModel.evaluate(dmtraintest,s.x) = Dict(:accuracy=>0.08968333333333327,:loglikelihood=>-139688.8507045782)\n",
      "MochaDataModel.evaluate(dmtest,s.x) = Dict(:accuracy=>0.09209999999999999,:loglikelihood=>-23224.356933334424)\n",
      "MochaDataModel.evaluate(dmtraintest,s.x) = Dict(:accuracy=>0.09688333333333336,:loglikelihood=>-139731.11276953292)\n",
      "MochaDataModel.evaluate(dmtest,s.x) = Dict(:accuracy=>0.0981,:loglikelihood=>-23226.50913984626)\n",
      "MochaDataModel.evaluate(dmtraintest,s.x) = Dict(:accuracy=>0.10256666666666667,:loglikelihood=>-139801.48820755194)\n",
      "MochaDataModel.evaluate(dmtest,s.x) = Dict(:accuracy=>0.1068,:loglikelihood=>-23234.348470760844)\n",
      "(m,c,stepsize) = (0.001,0.1,0.1)\n",
      "MochaDataModel.evaluate(dmtraintest,s.x) = Dict(:accuracy=>0.0895666666666667,:loglikelihood=>-139682.92592774273)\n",
      "MochaDataModel.evaluate(dmtest,s.x) = Dict(:accuracy=>0.09169999999999999,:loglikelihood=>-23223.732023956443)\n",
      "MochaDataModel.evaluate(dmtraintest,s.x) = Dict(:accuracy=>0.10771666666666667,:loglikelihood=>-137102.2460257528)\n",
      "MochaDataModel.evaluate(dmtest,s.x) = Dict(:accuracy=>0.1143,:loglikelihood=>-22850.774150208967)\n",
      "MochaDataModel.evaluate(dmtraintest,s.x) = Dict(:accuracy=>0.1573500000000001,:loglikelihood=>-132272.62384146027)\n",
      "MochaDataModel.evaluate(dmtest,s.x) = Dict(:accuracy=>0.1622,:loglikelihood=>-22069.022686970606)\n",
      "(m,c,stepsize) = (0.001,0.1,1.0)\n",
      "MochaDataModel.evaluate(dmtraintest,s.x) = Dict(:accuracy=>0.0926333333333334,:loglikelihood=>-139406.26284056026)\n",
      "MochaDataModel.evaluate(dmtest,s.x) = Dict(:accuracy=>0.09479999999999998,:loglikelihood=>-23171.509983779197)\n",
      "MochaDataModel.evaluate(dmtraintest,s.x) = Dict(:accuracy=>0.53535,:loglikelihood=>-120432.00451361541)\n",
      "MochaDataModel.evaluate(dmtest,s.x) = Dict(:accuracy=>0.5462000000000001,:loglikelihood=>-19588.267183242526)\n",
      "MochaDataModel.evaluate(dmtraintest,s.x) = Dict(:accuracy=>0.6776500000000002,:loglikelihood=>-189975.3351013867)\n",
      "MochaDataModel.evaluate(dmtest,s.x) = Dict(:accuracy=>0.6896999999999999,:loglikelihood=>-30533.289824024603)\n",
      "(m,c,stepsize) = (0.001,0.01,0.001)\n",
      "MochaDataModel.evaluate(dmtraintest,s.x) = Dict(:accuracy=>0.08956666666666667,:loglikelihood=>-139688.74252720538)\n",
      "MochaDataModel.evaluate(dmtest,s.x) = Dict(:accuracy=>0.0918,:loglikelihood=>-23224.38828186123)\n",
      "MochaDataModel.evaluate(dmtraintest,s.x) = Dict(:accuracy=>0.08958333333333332,:loglikelihood=>-139689.59451280104)\n",
      "MochaDataModel.evaluate(dmtest,s.x) = Dict(:accuracy=>0.09190000000000001,:loglikelihood=>-23224.4870609403)\n",
      "MochaDataModel.evaluate(dmtraintest,s.x) = Dict(:accuracy=>0.08966666666666663,:loglikelihood=>-139690.45082577155)\n",
      "MochaDataModel.evaluate(dmtest,s.x) = Dict(:accuracy=>0.09209999999999999,:loglikelihood=>-23224.58702046394)\n",
      "(m,c,stepsize) = (0.001,0.01,0.01)\n",
      "MochaDataModel.evaluate(dmtraintest,s.x) = Dict(:accuracy=>0.0895833333333333,:loglikelihood=>-139688.7787564937)\n",
      "MochaDataModel.evaluate(dmtest,s.x) = Dict(:accuracy=>0.0918,:loglikelihood=>-23224.39515821986)\n",
      "MochaDataModel.evaluate(dmtraintest,s.x) = Dict(:accuracy=>0.0897,:loglikelihood=>-139692.63208215634)\n",
      "MochaDataModel.evaluate(dmtest,s.x) = Dict(:accuracy=>0.09199999999999997,:loglikelihood=>-23225.102653001875)\n",
      "MochaDataModel.evaluate(dmtraintest,s.x) = Dict(:accuracy=>0.08991666666666663,:loglikelihood=>-139696.07253509326)\n",
      "MochaDataModel.evaluate(dmtest,s.x) = Dict(:accuracy=>0.09169999999999999,:loglikelihood=>-23225.754591204422)\n",
      "(m,c,stepsize) = (0.001,0.01,0.1)\n",
      "MochaDataModel.evaluate(dmtraintest,s.x) = Dict(:accuracy=>0.0895,:loglikelihood=>-139690.21024406076)\n",
      "MochaDataModel.evaluate(dmtest,s.x) = Dict(:accuracy=>0.0918,:loglikelihood=>-23224.679892306922)\n",
      "MochaDataModel.evaluate(dmtraintest,s.x) = Dict(:accuracy=>0.0798833333333333,:loglikelihood=>-139812.85407434448)\n",
      "MochaDataModel.evaluate(dmtest,s.x) = Dict(:accuracy=>0.08289999999999999,:loglikelihood=>-23249.922008175385)\n",
      "MochaDataModel.evaluate(dmtraintest,s.x) = Dict(:accuracy=>0.07233333333333322,:loglikelihood=>-139906.01983546585)\n",
      "MochaDataModel.evaluate(dmtest,s.x) = Dict(:accuracy=>0.07399999999999998,:loglikelihood=>-23269.90707584798)\n",
      "(m,c,stepsize) = (0.001,0.01,1.0)\n",
      "MochaDataModel.evaluate(dmtraintest,s.x) = Dict(:accuracy=>0.09045000000000002,:loglikelihood=>-139675.50952051175)\n",
      "MochaDataModel.evaluate(dmtest,s.x) = Dict(:accuracy=>0.09239999999999998,:loglikelihood=>-23222.134905936517)\n",
      "MochaDataModel.evaluate(dmtraintest,s.x) = Dict(:accuracy=>0.14236666666666675,:loglikelihood=>-137069.69655669937)\n",
      "MochaDataModel.evaluate(dmtest,s.x) = Dict(:accuracy=>0.15470000000000012,:loglikelihood=>-22750.972867975615)\n",
      "MochaDataModel.evaluate(dmtraintest,s.x) = Dict(:accuracy=>0.2354,:loglikelihood=>-129904.22818653483)\n",
      "MochaDataModel.evaluate(dmtest,s.x) = Dict(:accuracy=>0.2504,:loglikelihood=>-21525.046839452916)\n",
      "(m,c,stepsize) = (1.0e-5,1.0,0.001)\n",
      "MochaDataModel.evaluate(dmtraintest,s.x) = Dict(:accuracy=>0.08965000000000002,:loglikelihood=>-139689.78042943854)\n",
      "MochaDataModel.evaluate(dmtest,s.x) = Dict(:accuracy=>0.09189999999999998,:loglikelihood=>-23224.522571460035)\n",
      "MochaDataModel.evaluate(dmtraintest,s.x) = Dict(:accuracy=>0.09316666666666666,:loglikelihood=>-139807.726992781)\n",
      "MochaDataModel.evaluate(dmtest,s.x) = Dict(:accuracy=>0.0968,:loglikelihood=>-23242.461576795806)\n",
      "MochaDataModel.evaluate(dmtraintest,s.x) = Dict(:accuracy=>0.09598333333333334,:loglikelihood=>-139905.821931899)\n",
      "MochaDataModel.evaluate(dmtest,s.x) = Dict(:accuracy=>0.1004,:loglikelihood=>-23256.711923139224)\n",
      "(m,c,stepsize) = (1.0e-5,1.0,0.01)\n",
      "MochaDataModel.evaluate(dmtraintest,s.x) = Dict(:accuracy=>0.0884166666666667,:loglikelihood=>-139726.51225988223)\n",
      "MochaDataModel.evaluate(dmtest,s.x) = Dict(:accuracy=>0.09079999999999999,:loglikelihood=>-23230.107677187272)\n",
      "MochaDataModel.evaluate(dmtraintest,s.x) = Dict(:accuracy=>0.09651666666666667,:loglikelihood=>-138874.57063272662)\n",
      "MochaDataModel.evaluate(dmtest,s.x) = Dict(:accuracy=>0.10000000000000002,:loglikelihood=>-23068.7212357212)\n",
      "MochaDataModel.evaluate(dmtraintest,s.x) = Dict(:accuracy=>0.1297166666666667,:loglikelihood=>-138993.3997453092)\n",
      "MochaDataModel.evaluate(dmtest,s.x) = Dict(:accuracy=>0.13399999999999995,:loglikelihood=>-23052.596386388625)\n",
      "(m,c,stepsize) = (1.0e-5,1.0,0.1)\n",
      "MochaDataModel.evaluate(dmtraintest,s.x) = Dict(:accuracy=>0.09825,:loglikelihood=>-139417.39813794402)\n",
      "MochaDataModel.evaluate(dmtest,s.x) = Dict(:accuracy=>0.10029999999999997,:loglikelihood=>-23180.489896393337)\n",
      "MochaDataModel.evaluate(dmtraintest,s.x) = Dict(:accuracy=>0.2812333333333337,:loglikelihood=>-225534.89808601866)\n",
      "MochaDataModel.evaluate(dmtest,s.x) = Dict(:accuracy=>0.28999999999999987,:loglikelihood=>-36044.893171110525)\n",
      "MochaDataModel.evaluate(dmtraintest,s.x) = Dict(:accuracy=>0.4349166666666667,:loglikelihood=>-431416.45890780183)\n",
      "MochaDataModel.evaluate(dmtest,s.x) = Dict(:accuracy=>0.448,:loglikelihood=>-68211.72096795923)\n",
      "(m,c,stepsize) = (1.0e-5,1.0,1.0)\n",
      "MochaDataModel.evaluate(dmtraintest,s.x) = Dict(:accuracy=>0.11976666666666666,:loglikelihood=>-139784.365872619)\n",
      "MochaDataModel.evaluate(dmtest,s.x) = Dict(:accuracy=>0.1185,:loglikelihood=>-23266.590306236012)\n",
      "MochaDataModel.evaluate(dmtraintest,s.x) = Dict(:accuracy=>0.7588000000000003,:loglikelihood=>-589305.6502497193)\n",
      "MochaDataModel.evaluate(dmtest,s.x) = Dict(:accuracy=>0.7599,:loglikelihood=>-97607.22371105009)\n",
      "MochaDataModel.evaluate(dmtraintest,s.x) = Dict(:accuracy=>0.8065666666666669,:loglikelihood=>-506477.07101298985)\n",
      "MochaDataModel.evaluate(dmtest,s.x) = Dict(:accuracy=>0.8098000000000004,:loglikelihood=>-82867.98920664117)\n",
      "(m,c,stepsize) = (1.0e-5,0.1,0.001)\n",
      "MochaDataModel.evaluate(dmtraintest,s.x) = Dict(:accuracy=>0.08954999999999996,:loglikelihood=>-139688.84418816862)\n",
      "MochaDataModel.evaluate(dmtest,s.x) = Dict(:accuracy=>0.0919,:loglikelihood=>-23224.402528537714)\n",
      "MochaDataModel.evaluate(dmtraintest,s.x) = Dict(:accuracy=>0.09001666666666666,:loglikelihood=>-139698.92505392665)\n",
      "MochaDataModel.evaluate(dmtest,s.x) = Dict(:accuracy=>0.09209999999999997,:loglikelihood=>-23225.74709959518)\n",
      "MochaDataModel.evaluate(dmtraintest,s.x) = Dict(:accuracy=>0.09004999999999999,:loglikelihood=>-139709.00623910807)\n",
      "MochaDataModel.evaluate(dmtest,s.x) = Dict(:accuracy=>0.09209999999999997,:loglikelihood=>-23227.143783531043)\n",
      "(m,c,stepsize) = (1.0e-5,0.1,0.01)\n",
      "MochaDataModel.evaluate(dmtraintest,s.x) = Dict(:accuracy=>0.08961666666666666,:loglikelihood=>-139688.9746958127)\n",
      "MochaDataModel.evaluate(dmtest,s.x) = Dict(:accuracy=>0.09190000000000001,:loglikelihood=>-23224.390403901147)\n",
      "MochaDataModel.evaluate(dmtraintest,s.x) = Dict(:accuracy=>0.08921666666666665,:loglikelihood=>-139749.79339934431)\n",
      "MochaDataModel.evaluate(dmtest,s.x) = Dict(:accuracy=>0.09149999999999998,:loglikelihood=>-23231.692741572766)\n",
      "MochaDataModel.evaluate(dmtraintest,s.x) = Dict(:accuracy=>0.08923333333333337,:loglikelihood=>-139791.65751858795)\n",
      "MochaDataModel.evaluate(dmtest,s.x) = Dict(:accuracy=>0.08949999999999998,:loglikelihood=>-23235.674822811965)\n",
      "(m,c,stepsize) = (1.0e-5,0.1,0.1)\n",
      "MochaDataModel.evaluate(dmtraintest,s.x) = Dict(:accuracy=>0.0897166666666667,:loglikelihood=>-139706.05133711916)\n",
      "MochaDataModel.evaluate(dmtest,s.x) = Dict(:accuracy=>0.09090000000000004,:loglikelihood=>-23227.530704155095)\n",
      "MochaDataModel.evaluate(dmtraintest,s.x) = Dict(:accuracy=>0.14114999999999986,:loglikelihood=>-137911.14512718958)\n",
      "MochaDataModel.evaluate(dmtest,s.x) = Dict(:accuracy=>0.1435,:loglikelihood=>-22945.808052496854)\n",
      "MochaDataModel.evaluate(dmtraintest,s.x) = Dict(:accuracy=>0.19183333333333333,:loglikelihood=>-132670.60930263327)\n",
      "MochaDataModel.evaluate(dmtest,s.x) = Dict(:accuracy=>0.19189999999999993,:loglikelihood=>-22079.163217736692)\n",
      "(m,c,stepsize) = (1.0e-5,0.1,1.0)\n",
      "MochaDataModel.evaluate(dmtraintest,s.x) = Dict(:accuracy=>0.08930000000000005,:loglikelihood=>-139913.6647814377)\n",
      "MochaDataModel.evaluate(dmtest,s.x) = Dict(:accuracy=>0.08960000000000001,:loglikelihood=>-23269.58092912812)\n",
      "MochaDataModel.evaluate(dmtraintest,s.x) = Dict(:accuracy=>0.5631666666666663,:loglikelihood=>-119827.9015234748)\n",
      "MochaDataModel.evaluate(dmtest,s.x) = Dict(:accuracy=>0.5660000000000002,:loglikelihood=>-20092.55999902981)\n",
      "MochaDataModel.evaluate(dmtraintest,s.x) = Dict(:accuracy=>0.6921000000000006,:loglikelihood=>-199315.59337272312)\n",
      "MochaDataModel.evaluate(dmtest,s.x) = Dict(:accuracy=>0.7032,:loglikelihood=>-31558.29271980121)\n",
      "(m,c,stepsize) = (1.0e-5,0.01,0.001)\n",
      "MochaDataModel.evaluate(dmtraintest,s.x) = Dict(:accuracy=>0.0895666666666667,:loglikelihood=>-139688.7567177058)\n",
      "MochaDataModel.evaluate(dmtest,s.x) = Dict(:accuracy=>0.0918,:loglikelihood=>-23224.39079372716)\n",
      "MochaDataModel.evaluate(dmtraintest,s.x) = Dict(:accuracy=>0.08959999999999997,:loglikelihood=>-139691.053996309)\n",
      "MochaDataModel.evaluate(dmtest,s.x) = Dict(:accuracy=>0.09170000000000002,:loglikelihood=>-23224.746001413878)\n",
      "MochaDataModel.evaluate(dmtraintest,s.x) = Dict(:accuracy=>0.08956666666666668,:loglikelihood=>-139693.3486755476)\n",
      "MochaDataModel.evaluate(dmtest,s.x) = Dict(:accuracy=>0.09169999999999999,:loglikelihood=>-23225.10065319975)\n",
      "(m,c,stepsize) = (1.0e-5,0.01,0.01)\n",
      "MochaDataModel.evaluate(dmtraintest,s.x) = Dict(:accuracy=>0.0895833333333334,:loglikelihood=>-139688.45353410486)\n",
      "MochaDataModel.evaluate(dmtest,s.x) = Dict(:accuracy=>0.09180000000000002,:loglikelihood=>-23224.33318447593)\n",
      "MochaDataModel.evaluate(dmtraintest,s.x) = Dict(:accuracy=>0.09003333333333334,:loglikelihood=>-139660.17760590502)\n",
      "MochaDataModel.evaluate(dmtest,s.x) = Dict(:accuracy=>0.09219999999999999,:loglikelihood=>-23218.893593850582)\n",
      "MochaDataModel.evaluate(dmtraintest,s.x) = Dict(:accuracy=>0.09094999999999999,:loglikelihood=>-139631.05338503787)\n",
      "MochaDataModel.evaluate(dmtest,s.x) = Dict(:accuracy=>0.09350000000000003,:loglikelihood=>-23213.340803649815)\n",
      "(m,c,stepsize) = (1.0e-5,0.01,0.1)\n",
      "MochaDataModel.evaluate(dmtraintest,s.x) = Dict(:accuracy=>0.08953333333333328,:loglikelihood=>-139688.4325982053)\n",
      "MochaDataModel.evaluate(dmtest,s.x) = Dict(:accuracy=>0.09170000000000002,:loglikelihood=>-23224.339308378163)\n",
      "MochaDataModel.evaluate(dmtraintest,s.x) = Dict(:accuracy=>0.08671666666666668,:loglikelihood=>-139642.23032519798)\n",
      "MochaDataModel.evaluate(dmtest,s.x) = Dict(:accuracy=>0.0876,:loglikelihood=>-23217.985147778898)\n",
      "MochaDataModel.evaluate(dmtraintest,s.x) = Dict(:accuracy=>0.08483333333333333,:loglikelihood=>-139613.5324948162)\n",
      "MochaDataModel.evaluate(dmtest,s.x) = Dict(:accuracy=>0.08669999999999999,:loglikelihood=>-23215.126599508523)\n",
      "(m,c,stepsize) = (1.0e-5,0.01,1.0)\n",
      "MochaDataModel.evaluate(dmtraintest,s.x) = Dict(:accuracy=>0.08920000000000006,:loglikelihood=>-139695.14354081196)\n",
      "MochaDataModel.evaluate(dmtest,s.x) = Dict(:accuracy=>0.09179999999999996,:loglikelihood=>-23225.657997015787)\n",
      "MochaDataModel.evaluate(dmtraintest,s.x) = Dict(:accuracy=>0.1030666666666667,:loglikelihood=>-138064.41919125736)\n",
      "MochaDataModel.evaluate(dmtest,s.x) = Dict(:accuracy=>0.10709999999999996,:loglikelihood=>-22991.530608050085)\n",
      "MochaDataModel.evaluate(dmtraintest,s.x) = Dict(:accuracy=>0.17703333333333332,:loglikelihood=>-131917.94433377485)\n",
      "MochaDataModel.evaluate(dmtest,s.x) = Dict(:accuracy=>0.1817,:loglikelihood=>-21951.506694373507)\n"
     ]
    }
   ],
   "source": [
    "for m in [1,1e-3,1e-5]\n",
    "    for c in [1.,1e-1,1e-2]\n",
    "        for stepsize in [1e-3,1e-2,1e-1,1]\n",
    "            @show m,c,stepsize\n",
    "            x = deepcopy(y)\n",
    "            ssgrhmc = SGNHTRelHMCState(x,stepsize=stepsize,c=[c],mass=[m]);\n",
    "            run(ssgrhmc,dm)\n",
    "        end\n",
    "    end\n",
    "end"
   ]
  },
  {
   "cell_type": "code",
   "execution_count": null,
   "metadata": {
    "collapsed": false
   },
   "outputs": [],
   "source": []
  },
  {
   "cell_type": "code",
   "execution_count": null,
   "metadata": {
    "collapsed": true
   },
   "outputs": [],
   "source": []
  }
 ],
 "metadata": {
  "kernelspec": {
   "display_name": "Julia 0.3.11",
   "language": "julia",
   "name": "julia-0.3"
  },
  "language_info": {
   "file_extension": ".jl",
   "mimetype": "application/julia",
   "name": "julia",
   "version": "0.3.11"
  }
 },
 "nbformat": 4,
 "nbformat_minor": 0
}
