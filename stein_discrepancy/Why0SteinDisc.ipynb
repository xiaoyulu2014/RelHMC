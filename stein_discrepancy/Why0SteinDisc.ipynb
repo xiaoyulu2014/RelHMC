{
 "cells": [
  {
   "cell_type": "code",
   "execution_count": 1,
   "metadata": {
    "collapsed": true
   },
   "outputs": [],
   "source": [
    "using JLD"
   ]
  },
  {
   "cell_type": "code",
   "execution_count": 2,
   "metadata": {
    "collapsed": false
   },
   "outputs": [
    {
     "data": {
      "text/plain": [
       "Dict{Union(ASCIIString,UTF8String),Any} with 1 entry:\n",
       "  \"jobs\" => [[\"y\"=>[1.0,-1.0,-1.0,-1.0,-1.0,1.0,1.0,1.0,-1.0,-1.0,-1.0,-1.0,-1.…"
      ]
     },
     "execution_count": 2,
     "metadata": {},
     "output_type": "execute_result"
    }
   ],
   "source": [
    "dic=load(\"../xiaoyu/plots/wk11/LR_srnhts.jld\")"
   ]
  },
  {
   "cell_type": "code",
   "execution_count": 3,
   "metadata": {
    "collapsed": false
   },
   "outputs": [
    {
     "data": {
      "text/plain": [
       "eval_isogaussian (generic function with 1 method)"
      ]
     },
     "execution_count": 3,
     "metadata": {},
     "output_type": "execute_result"
    }
   ],
   "source": [
    "include(\"src/startup.jl\")\n",
    "using SteinDistributions: SteinGaussian, SteinScaleLocationStudentT\n",
    "using SteinDiscrepancy: stein_discrepancy\n",
    "solver = \"clp\"\n",
    "function eval_isogaussian(dic::Dict{ASCIIString,Any})\n",
    "    d=dic[\"d\"]\n",
    "    samples=dic[\"samples\"]/dic[\"sd\"]\n",
    "    subsize=dic[\"subsize\"]\n",
    "    stein_discrepancys=Any[]\n",
    "    gaussian_target = SteinGaussian(d)\n",
    "\n",
    "    for i=1:length(subsize)\n",
    "        result=stein_discrepancy(points=samples[:,1:subsize[i]]',target=gaussian_target,solver=solver)\n",
    "        append!(stein_discrepancys,[result])\n",
    "    end\n",
    "\n",
    "    stein_discrepancys\n",
    "end\n"
   ]
  },
  {
   "cell_type": "code",
   "execution_count": 4,
   "metadata": {
    "collapsed": false
   },
   "outputs": [
    {
     "data": {
      "text/plain": [
       "1-element Array{Int64,1}:\n",
       " 1000"
      ]
     },
     "execution_count": 4,
     "metadata": {},
     "output_type": "execute_result"
    }
   ],
   "source": [
    "onejob=dic[\"jobs\"][1]\n",
    "onejob[\"subsize\"]=[1000]"
   ]
  },
  {
   "cell_type": "code",
   "execution_count": null,
   "metadata": {
    "collapsed": false
   },
   "outputs": [
    {
     "name": "stdout",
     "output_type": "stream",
     "text": [
      "[Computing spanner edges]\n",
      "elapsed time: "
     ]
    }
   ],
   "source": [
    "res=eval_isogaussian(onejob) # took 8h"
   ]
  },
  {
   "cell_type": "code",
   "execution_count": 5,
   "metadata": {
    "collapsed": false
   },
   "outputs": [
    {
     "data": {
      "text/plain": [
       "1-element Array{Any,1}:\n",
       " 1"
      ]
     },
     "execution_count": 5,
     "metadata": {},
     "output_type": "execute_result"
    }
   ],
   "source": [
    "test=Any[]\n",
    "append!(test,[1])"
   ]
  },
  {
   "cell_type": "code",
   "execution_count": 11,
   "metadata": {
    "collapsed": false
   },
   "outputs": [
    {
     "data": {
      "text/plain": [
       "4.287466539127111"
      ]
     },
     "execution_count": 11,
     "metadata": {},
     "output_type": "execute_result"
    }
   ],
   "source": [
    "sum(res[1].objectivevalue)"
   ]
  },
  {
   "cell_type": "code",
   "execution_count": null,
   "metadata": {
    "collapsed": true
   },
   "outputs": [],
   "source": []
  }
 ],
 "metadata": {
  "kernelspec": {
   "display_name": "Julia 0.3.11",
   "language": "julia",
   "name": "julia-0.3"
  },
  "language_info": {
   "file_extension": ".jl",
   "mimetype": "application/julia",
   "name": "julia",
   "version": "0.3.11"
  }
 },
 "nbformat": 4,
 "nbformat_minor": 0
}
